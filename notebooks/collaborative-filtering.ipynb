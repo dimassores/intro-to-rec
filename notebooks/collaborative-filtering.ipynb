{
 "cells": [
  {
   "cell_type": "markdown",
   "id": "a0259ddc",
   "metadata": {},
   "source": [
    "# MovieLens exploration to Collaborative Filtering"
   ]
  },
  {
   "cell_type": "code",
   "execution_count": 24,
   "id": "527a03d0",
   "metadata": {},
   "outputs": [],
   "source": [
    "# processing\n",
    "import numpy as np\n",
    "import pandas as pd\n",
    "\n",
    "# visualizing \n",
    "import matplotlib.pyplot as plt\n",
    "import recmetrics as rm\n",
    "\n",
    "# modeling \n",
    "from surprise import SVD, NMF\n",
    "from surprise import Dataset\n",
    "from surprise import Reader\n",
    "from surprise.model_selection import train_test_split, cross_validate"
   ]
  },
  {
   "cell_type": "code",
   "execution_count": 2,
   "id": "05e09672",
   "metadata": {},
   "outputs": [],
   "source": [
    "def read_data_ml100k():\n",
    "    names = ['user_id', 'item_id', 'rating', 'timestamp']\n",
    "    data = pd.read_csv('../ml-100k/u.data', '\\t', names=names, engine='python')\n",
    "    num_users = data.user_id.unique().shape[0]\n",
    "    num_items = data.item_id.unique().shape[0]\n",
    "    return data.drop('timestamp', axis = 1), num_users, num_items"
   ]
  },
  {
   "cell_type": "code",
   "execution_count": 3,
   "id": "f1b4092d",
   "metadata": {},
   "outputs": [],
   "source": [
    "df, n_users, n_itens = read_data_ml100k()"
   ]
  },
  {
   "cell_type": "code",
   "execution_count": 4,
   "id": "41d4e722",
   "metadata": {},
   "outputs": [
    {
     "data": {
      "text/html": [
       "<div>\n",
       "<style scoped>\n",
       "    .dataframe tbody tr th:only-of-type {\n",
       "        vertical-align: middle;\n",
       "    }\n",
       "\n",
       "    .dataframe tbody tr th {\n",
       "        vertical-align: top;\n",
       "    }\n",
       "\n",
       "    .dataframe thead th {\n",
       "        text-align: right;\n",
       "    }\n",
       "</style>\n",
       "<table border=\"1\" class=\"dataframe\">\n",
       "  <thead>\n",
       "    <tr style=\"text-align: right;\">\n",
       "      <th></th>\n",
       "      <th>user_id</th>\n",
       "      <th>item_id</th>\n",
       "      <th>rating</th>\n",
       "    </tr>\n",
       "  </thead>\n",
       "  <tbody>\n",
       "    <tr>\n",
       "      <th>0</th>\n",
       "      <td>196</td>\n",
       "      <td>242</td>\n",
       "      <td>3</td>\n",
       "    </tr>\n",
       "    <tr>\n",
       "      <th>1</th>\n",
       "      <td>186</td>\n",
       "      <td>302</td>\n",
       "      <td>3</td>\n",
       "    </tr>\n",
       "    <tr>\n",
       "      <th>2</th>\n",
       "      <td>22</td>\n",
       "      <td>377</td>\n",
       "      <td>1</td>\n",
       "    </tr>\n",
       "    <tr>\n",
       "      <th>3</th>\n",
       "      <td>244</td>\n",
       "      <td>51</td>\n",
       "      <td>2</td>\n",
       "    </tr>\n",
       "    <tr>\n",
       "      <th>4</th>\n",
       "      <td>166</td>\n",
       "      <td>346</td>\n",
       "      <td>1</td>\n",
       "    </tr>\n",
       "  </tbody>\n",
       "</table>\n",
       "</div>"
      ],
      "text/plain": [
       "   user_id  item_id  rating\n",
       "0      196      242       3\n",
       "1      186      302       3\n",
       "2       22      377       1\n",
       "3      244       51       2\n",
       "4      166      346       1"
      ]
     },
     "execution_count": 4,
     "metadata": {},
     "output_type": "execute_result"
    }
   ],
   "source": [
    "df.head()"
   ]
  },
  {
   "cell_type": "markdown",
   "id": "ab1cfdb6",
   "metadata": {},
   "source": [
    "# Data Exploration"
   ]
  },
  {
   "cell_type": "code",
   "execution_count": 5,
   "id": "8f4eb92b",
   "metadata": {},
   "outputs": [
    {
     "data": {
      "image/png": "[encoded data removed]",
      "text/plain": [
       "<Figure size 432x288 with 1 Axes>"
      ]
     },
     "metadata": {
      "needs_background": "light"
     },
     "output_type": "display_data"
    }
   ],
   "source": [
    "plt.hist(df['rating'], bins=5, ec='black')\n",
    "plt.xlabel('Rating')\n",
    "plt.ylabel('Count')\n",
    "plt.title('Distribution of Ratings in MovieLens 100K')\n",
    "plt.show()"
   ]
  },
  {
   "cell_type": "code",
   "execution_count": 9,
   "id": "e9ac31be",
   "metadata": {},
   "outputs": [
    {
     "data": {
      "text/html": [
       "<div>\n",
       "<style scoped>\n",
       "    .dataframe tbody tr th:only-of-type {\n",
       "        vertical-align: middle;\n",
       "    }\n",
       "\n",
       "    .dataframe tbody tr th {\n",
       "        vertical-align: top;\n",
       "    }\n",
       "\n",
       "    .dataframe thead th {\n",
       "        text-align: right;\n",
       "    }\n",
       "</style>\n",
       "<table border=\"1\" class=\"dataframe\">\n",
       "  <thead>\n",
       "    <tr style=\"text-align: right;\">\n",
       "      <th></th>\n",
       "      <th>user_id</th>\n",
       "      <th>item_id</th>\n",
       "      <th>rating</th>\n",
       "    </tr>\n",
       "  </thead>\n",
       "  <tbody>\n",
       "    <tr>\n",
       "      <th>count</th>\n",
       "      <td>100000.00000</td>\n",
       "      <td>100000.000000</td>\n",
       "      <td>100000.000000</td>\n",
       "    </tr>\n",
       "    <tr>\n",
       "      <th>mean</th>\n",
       "      <td>462.48475</td>\n",
       "      <td>425.530130</td>\n",
       "      <td>3.529860</td>\n",
       "    </tr>\n",
       "    <tr>\n",
       "      <th>std</th>\n",
       "      <td>266.61442</td>\n",
       "      <td>330.798356</td>\n",
       "      <td>1.125674</td>\n",
       "    </tr>\n",
       "    <tr>\n",
       "      <th>min</th>\n",
       "      <td>1.00000</td>\n",
       "      <td>1.000000</td>\n",
       "      <td>1.000000</td>\n",
       "    </tr>\n",
       "    <tr>\n",
       "      <th>25%</th>\n",
       "      <td>254.00000</td>\n",
       "      <td>175.000000</td>\n",
       "      <td>3.000000</td>\n",
       "    </tr>\n",
       "    <tr>\n",
       "      <th>50%</th>\n",
       "      <td>447.00000</td>\n",
       "      <td>322.000000</td>\n",
       "      <td>4.000000</td>\n",
       "    </tr>\n",
       "    <tr>\n",
       "      <th>75%</th>\n",
       "      <td>682.00000</td>\n",
       "      <td>631.000000</td>\n",
       "      <td>4.000000</td>\n",
       "    </tr>\n",
       "    <tr>\n",
       "      <th>max</th>\n",
       "      <td>943.00000</td>\n",
       "      <td>1682.000000</td>\n",
       "      <td>5.000000</td>\n",
       "    </tr>\n",
       "  </tbody>\n",
       "</table>\n",
       "</div>"
      ],
      "text/plain": [
       "            user_id        item_id         rating\n",
       "count  100000.00000  100000.000000  100000.000000\n",
       "mean      462.48475     425.530130       3.529860\n",
       "std       266.61442     330.798356       1.125674\n",
       "min         1.00000       1.000000       1.000000\n",
       "25%       254.00000     175.000000       3.000000\n",
       "50%       447.00000     322.000000       4.000000\n",
       "75%       682.00000     631.000000       4.000000\n",
       "max       943.00000    1682.000000       5.000000"
      ]
     },
     "execution_count": 9,
     "metadata": {},
     "output_type": "execute_result"
    }
   ],
   "source": [
    "df.describe()"
   ]
  },
  {
   "cell_type": "code",
   "execution_count": 6,
   "id": "30c95b09",
   "metadata": {},
   "outputs": [
    {
     "name": "stderr",
     "output_type": "stream",
     "text": [
      "/Users/dimassoares/opt/anaconda3/envs/recenv/lib/python3.7/site-packages/seaborn/_decorators.py:43: FutureWarning: Pass the following variable as a keyword arg: x. From version 0.12, the only valid positional argument will be `data`, and passing other arguments without an explicit keyword will result in an error or misinterpretation.\n",
      "  FutureWarning\n"
     ]
    },
    {
     "data": {
      "image/png": "[encoded data removed]",
      "text/plain": [
       "<Figure size 1080x504 with 1 Axes>"
      ]
     },
     "metadata": {
      "needs_background": "light"
     },
     "output_type": "display_data"
    }
   ],
   "source": [
    "fig = plt.figure(figsize=(15, 7))\n",
    "rm.long_tail_plot(df=df, \n",
    "             item_id_column=\"item_id\", \n",
    "             interaction_type=\"movie ratings\", \n",
    "             percentage=0.5,\n",
    "             x_labels=False)"
   ]
  },
  {
   "cell_type": "markdown",
   "id": "9a45e494",
   "metadata": {},
   "source": [
    "# Modeling SVD Modeling"
   ]
  },
  {
   "cell_type": "code",
   "execution_count": 15,
   "id": "03f7fccd",
   "metadata": {},
   "outputs": [],
   "source": [
    "reader = Reader(rating_scale=(0, 5))\n",
    "df_surprise = Dataset.load_from_df(df, reader = reader)\n",
    "train_df, test_df = train_test_split(df_surprise, test_size=0.15)"
   ]
  },
  {
   "cell_type": "markdown",
   "id": "4e940e5e",
   "metadata": {},
   "source": [
    "We are going to use SVD as an MF algorithm for collaborative filtering. To do so, the `surprise` library is used. \n",
    "![SVD definition](../imgs/svd_definition.png)\n",
    "\n",
    "The documentation for the model details can be found [HERE](https://surprise.readthedocs.io/en/stable/matrix_factorization.html#surprise.prediction_algorithms.matrix_factorization.SVD). For sake of simplicity, the documentation tutorial is followed. "
   ]
  },
  {
   "cell_type": "code",
   "execution_count": 13,
   "id": "4c12e237",
   "metadata": {},
   "outputs": [
    {
     "name": "stdout",
     "output_type": "stream",
     "text": [
      "Evaluating RMSE of algorithm SVD on 5 split(s).\n",
      "\n",
      "                  Fold 1  Fold 2  Fold 3  Fold 4  Fold 5  Mean    Std     \n",
      "RMSE (testset)    0.9338  0.9403  0.9295  0.9424  0.9394  0.9371  0.0047  \n",
      "Fit time          4.22    4.22    4.38    4.15    4.03    4.20    0.11    \n",
      "Test time         0.13    0.12    0.11    0.10    0.11    0.12    0.01    \n"
     ]
    }
   ],
   "source": [
    "svd_model = SVD()\n",
    "\n",
    "# Run 5-fold cross-validation and print results.\n",
    "cv = cross_validate(svd_model, df_surprise, measures=['RMSE'], cv=5, verbose=True)"
   ]
  },
  {
   "cell_type": "code",
   "execution_count": 16,
   "id": "1be898b6",
   "metadata": {},
   "outputs": [
    {
     "data": {
      "text/plain": [
       "<surprise.prediction_algorithms.matrix_factorization.SVD at 0x7fc9aad3c090>"
      ]
     },
     "execution_count": 16,
     "metadata": {},
     "output_type": "execute_result"
    }
   ],
   "source": [
    "# fitting the model\n",
    "svd_model.fit(train_df)"
   ]
  },
  {
   "cell_type": "code",
   "execution_count": 19,
   "id": "d80e8e3c",
   "metadata": {},
   "outputs": [
    {
     "data": {
      "text/html": [
       "<div>\n",
       "<style scoped>\n",
       "    .dataframe tbody tr th:only-of-type {\n",
       "        vertical-align: middle;\n",
       "    }\n",
       "\n",
       "    .dataframe tbody tr th {\n",
       "        vertical-align: top;\n",
       "    }\n",
       "\n",
       "    .dataframe thead th {\n",
       "        text-align: right;\n",
       "    }\n",
       "</style>\n",
       "<table border=\"1\" class=\"dataframe\">\n",
       "  <thead>\n",
       "    <tr style=\"text-align: right;\">\n",
       "      <th></th>\n",
       "      <th>user_id</th>\n",
       "      <th>item_id</th>\n",
       "      <th>rating</th>\n",
       "      <th>cf_predictions</th>\n",
       "    </tr>\n",
       "  </thead>\n",
       "  <tbody>\n",
       "    <tr>\n",
       "      <th>0</th>\n",
       "      <td>708</td>\n",
       "      <td>25</td>\n",
       "      <td>3.0</td>\n",
       "      <td>3.384963</td>\n",
       "    </tr>\n",
       "    <tr>\n",
       "      <th>1</th>\n",
       "      <td>655</td>\n",
       "      <td>223</td>\n",
       "      <td>3.0</td>\n",
       "      <td>3.327821</td>\n",
       "    </tr>\n",
       "    <tr>\n",
       "      <th>2</th>\n",
       "      <td>874</td>\n",
       "      <td>14</td>\n",
       "      <td>4.0</td>\n",
       "      <td>4.003579</td>\n",
       "    </tr>\n",
       "    <tr>\n",
       "      <th>3</th>\n",
       "      <td>518</td>\n",
       "      <td>508</td>\n",
       "      <td>3.0</td>\n",
       "      <td>3.350738</td>\n",
       "    </tr>\n",
       "    <tr>\n",
       "      <th>4</th>\n",
       "      <td>250</td>\n",
       "      <td>50</td>\n",
       "      <td>5.0</td>\n",
       "      <td>4.032179</td>\n",
       "    </tr>\n",
       "  </tbody>\n",
       "</table>\n",
       "</div>"
      ],
      "text/plain": [
       "   user_id  item_id  rating  cf_predictions\n",
       "0      708       25     3.0        3.384963\n",
       "1      655      223     3.0        3.327821\n",
       "2      874       14     4.0        4.003579\n",
       "3      518      508     3.0        3.350738\n",
       "4      250       50     5.0        4.032179"
      ]
     },
     "execution_count": 19,
     "metadata": {},
     "output_type": "execute_result"
    }
   ],
   "source": [
    "# Validating predictions \n",
    "\n",
    "test = svd_model.test(test_df)\n",
    "test = pd.DataFrame(test)\n",
    "test.drop(\"details\", inplace=True, axis=1)\n",
    "test.columns = ['user_id', 'item_id', 'rating', 'cf_predictions']\n",
    "test.head()"
   ]
  },
  {
   "cell_type": "code",
   "execution_count": 23,
   "id": "1cf57eed",
   "metadata": {},
   "outputs": [
    {
     "data": {
      "text/plain": [
       "[187, 318, 192, 211, 137, 941, 940, 939, 938, 937]"
      ]
     },
     "execution_count": 23,
     "metadata": {},
     "output_type": "execute_result"
    }
   ],
   "source": [
    "# Making predictions \n",
    "\n",
    "def get_users_predictions(user_id, n, model):\n",
    "    recommended_items = pd.DataFrame(model.loc[user_id])\n",
    "    recommended_items.columns = [\"predicted_rating\"]\n",
    "    recommended_items = recommended_items.sort_values('predicted_rating', ascending=False)    \n",
    "    recommended_items = recommended_items.head(n)\n",
    "    return recommended_items.index.tolist()\n",
    "\n",
    "cf_model = test.pivot_table(index='user_id', columns='item_id', values='cf_predictions').fillna(0)\n",
    "\n",
    "get_users_predictions(156, 10, cf_model)"
   ]
  },
  {
   "cell_type": "code",
   "execution_count": 41,
   "id": "72eba69f",
   "metadata": {},
   "outputs": [
    {
     "data": {
      "text/html": [
       "<div>\n",
       "<style scoped>\n",
       "    .dataframe tbody tr th:only-of-type {\n",
       "        vertical-align: middle;\n",
       "    }\n",
       "\n",
       "    .dataframe tbody tr th {\n",
       "        vertical-align: top;\n",
       "    }\n",
       "\n",
       "    .dataframe thead th {\n",
       "        text-align: right;\n",
       "    }\n",
       "</style>\n",
       "<table border=\"1\" class=\"dataframe\">\n",
       "  <thead>\n",
       "    <tr style=\"text-align: right;\">\n",
       "      <th></th>\n",
       "      <th>actual</th>\n",
       "      <th>svd_predictions</th>\n",
       "    </tr>\n",
       "    <tr>\n",
       "      <th>user_id</th>\n",
       "      <th></th>\n",
       "      <th></th>\n",
       "    </tr>\n",
       "  </thead>\n",
       "  <tbody>\n",
       "    <tr>\n",
       "      <th>1</th>\n",
       "      <td>[128, 130, 4, 137, 139, 14, 270, 17, 24, 157, ...</td>\n",
       "      <td>[185, 169, 198, 137, 205, 208, 60, 14, 206, 69]</td>\n",
       "    </tr>\n",
       "    <tr>\n",
       "      <th>2</th>\n",
       "      <td>[291, 300, 111, 274, 19, 311, 281, 283, 285]</td>\n",
       "      <td>[285, 19, 283, 311, 300, 291, 111, 274, 281, 942]</td>\n",
       "    </tr>\n",
       "    <tr>\n",
       "      <th>3</th>\n",
       "      <td>[355, 328, 264, 337, 346, 348]</td>\n",
       "      <td>[346, 337, 328, 348, 355, 264, 943, 942, 941, ...</td>\n",
       "    </tr>\n",
       "    <tr>\n",
       "      <th>4</th>\n",
       "      <td>[258, 260, 357, 294, 264, 329, 301, 303]</td>\n",
       "      <td>[357, 258, 303, 301, 329, 294, 260, 264, 887, ...</td>\n",
       "    </tr>\n",
       "    <tr>\n",
       "      <th>5</th>\n",
       "      <td>[1, 388, 391, 394, 153, 412, 416, 163, 167, 42...</td>\n",
       "      <td>[427, 194, 210, 435, 1, 381, 153, 89, 234, 163]</td>\n",
       "    </tr>\n",
       "  </tbody>\n",
       "</table>\n",
       "</div>"
      ],
      "text/plain": [
       "                                                    actual  \\\n",
       "user_id                                                      \n",
       "1        [128, 130, 4, 137, 139, 14, 270, 17, 24, 157, ...   \n",
       "2             [291, 300, 111, 274, 19, 311, 281, 283, 285]   \n",
       "3                           [355, 328, 264, 337, 346, 348]   \n",
       "4                 [258, 260, 357, 294, 264, 329, 301, 303]   \n",
       "5        [1, 388, 391, 394, 153, 412, 416, 163, 167, 42...   \n",
       "\n",
       "                                           svd_predictions  \n",
       "user_id                                                     \n",
       "1          [185, 169, 198, 137, 205, 208, 60, 14, 206, 69]  \n",
       "2        [285, 19, 283, 311, 300, 291, 111, 274, 281, 942]  \n",
       "3        [346, 337, 328, 348, 355, 264, 943, 942, 941, ...  \n",
       "4        [357, 258, 303, 301, 329, 294, 260, 264, 887, ...  \n",
       "5          [427, 194, 210, 435, 1, 381, 153, 89, 234, 163]  "
      ]
     },
     "execution_count": 41,
     "metadata": {},
     "output_type": "execute_result"
    }
   ],
   "source": [
    "# defining the predictions for all users\n",
    "\n",
    "pred_test = test.groupby('user_id', as_index=False)['item_id'].agg({'actual': (lambda x: list(set(x)))})\n",
    "pred_test = pred_test.set_index(\"user_id\")\n",
    "\n",
    "# make recommendations for all members in the test data\n",
    "cf_recs = [] = []\n",
    "for user in pred_test.index:\n",
    "    cf_predictions = get_users_predictions(user, 10, cf_model)\n",
    "    cf_recs.append(cf_predictions)\n",
    "        \n",
    "pred_test['svd_predictions'] = cf_recs\n",
    "pred_test.head()"
   ]
  },
  {
   "cell_type": "markdown",
   "id": "7cebe96d",
   "metadata": {},
   "source": [
    "# Comparing models performance: SVD, PMF, NMF, Popularity"
   ]
  },
  {
   "cell_type": "markdown",
   "id": "e0237018",
   "metadata": {},
   "source": [
    "The SVD model is one version of MF algorithm that has bias correction parameters that are estimated is fit process. Although it is very popular approach, a classic model in the MF context is the PMF and it address the MF as a multiplication of two Normal distributions. The reference paper can be found [here](https://www.cs.utoronto.ca/~amnih/papers/pmf.pdf) "
   ]
  },
  {
   "cell_type": "markdown",
   "id": "e167681b",
   "metadata": {},
   "source": [
    "## PMF"
   ]
  },
  {
   "cell_type": "code",
   "execution_count": 26,
   "id": "3832b999",
   "metadata": {},
   "outputs": [
    {
     "data": {
      "text/plain": [
       "<surprise.prediction_algorithms.matrix_factorization.SVD at 0x7fc9af23e310>"
      ]
     },
     "execution_count": 26,
     "metadata": {},
     "output_type": "execute_result"
    }
   ],
   "source": [
    "pmf_model = SVD(biased = False)\n",
    "pmf_model.fit(train_df)"
   ]
  },
  {
   "cell_type": "code",
   "execution_count": 30,
   "id": "3cec9976",
   "metadata": {},
   "outputs": [
    {
     "data": {
      "text/html": [
       "<div>\n",
       "<style scoped>\n",
       "    .dataframe tbody tr th:only-of-type {\n",
       "        vertical-align: middle;\n",
       "    }\n",
       "\n",
       "    .dataframe tbody tr th {\n",
       "        vertical-align: top;\n",
       "    }\n",
       "\n",
       "    .dataframe thead th {\n",
       "        text-align: right;\n",
       "    }\n",
       "</style>\n",
       "<table border=\"1\" class=\"dataframe\">\n",
       "  <thead>\n",
       "    <tr style=\"text-align: right;\">\n",
       "      <th></th>\n",
       "      <th>user_id</th>\n",
       "      <th>item_id</th>\n",
       "      <th>rating</th>\n",
       "      <th>cf_predictions</th>\n",
       "    </tr>\n",
       "  </thead>\n",
       "  <tbody>\n",
       "    <tr>\n",
       "      <th>0</th>\n",
       "      <td>708</td>\n",
       "      <td>25</td>\n",
       "      <td>3.0</td>\n",
       "      <td>3.690360</td>\n",
       "    </tr>\n",
       "    <tr>\n",
       "      <th>1</th>\n",
       "      <td>655</td>\n",
       "      <td>223</td>\n",
       "      <td>3.0</td>\n",
       "      <td>2.795584</td>\n",
       "    </tr>\n",
       "    <tr>\n",
       "      <th>2</th>\n",
       "      <td>874</td>\n",
       "      <td>14</td>\n",
       "      <td>4.0</td>\n",
       "      <td>3.979682</td>\n",
       "    </tr>\n",
       "    <tr>\n",
       "      <th>3</th>\n",
       "      <td>518</td>\n",
       "      <td>508</td>\n",
       "      <td>3.0</td>\n",
       "      <td>3.724811</td>\n",
       "    </tr>\n",
       "    <tr>\n",
       "      <th>4</th>\n",
       "      <td>250</td>\n",
       "      <td>50</td>\n",
       "      <td>5.0</td>\n",
       "      <td>3.918482</td>\n",
       "    </tr>\n",
       "  </tbody>\n",
       "</table>\n",
       "</div>"
      ],
      "text/plain": [
       "   user_id  item_id  rating  cf_predictions\n",
       "0      708       25     3.0        3.690360\n",
       "1      655      223     3.0        2.795584\n",
       "2      874       14     4.0        3.979682\n",
       "3      518      508     3.0        3.724811\n",
       "4      250       50     5.0        3.918482"
      ]
     },
     "execution_count": 30,
     "metadata": {},
     "output_type": "execute_result"
    }
   ],
   "source": [
    "test_pmf = pmf_model.test(test_df)\n",
    "test_pmf = pd.DataFrame(test_pmf)\n",
    "test_pmf.drop(\"details\", inplace=True, axis=1)\n",
    "test_pmf.columns = ['user_id', 'item_id', 'rating', 'cf_predictions']\n",
    "test_pmf.head()"
   ]
  },
  {
   "cell_type": "code",
   "execution_count": 42,
   "id": "a01b2279",
   "metadata": {},
   "outputs": [
    {
     "data": {
      "text/html": [
       "<div>\n",
       "<style scoped>\n",
       "    .dataframe tbody tr th:only-of-type {\n",
       "        vertical-align: middle;\n",
       "    }\n",
       "\n",
       "    .dataframe tbody tr th {\n",
       "        vertical-align: top;\n",
       "    }\n",
       "\n",
       "    .dataframe thead th {\n",
       "        text-align: right;\n",
       "    }\n",
       "</style>\n",
       "<table border=\"1\" class=\"dataframe\">\n",
       "  <thead>\n",
       "    <tr style=\"text-align: right;\">\n",
       "      <th></th>\n",
       "      <th>actual</th>\n",
       "      <th>svd_predictions</th>\n",
       "      <th>pmf_predictions</th>\n",
       "    </tr>\n",
       "    <tr>\n",
       "      <th>user_id</th>\n",
       "      <th></th>\n",
       "      <th></th>\n",
       "      <th></th>\n",
       "    </tr>\n",
       "  </thead>\n",
       "  <tbody>\n",
       "    <tr>\n",
       "      <th>1</th>\n",
       "      <td>[128, 130, 4, 137, 139, 14, 270, 17, 24, 157, ...</td>\n",
       "      <td>[185, 169, 198, 137, 205, 208, 60, 14, 206, 69]</td>\n",
       "      <td>[169, 60, 198, 4, 14, 196, 207, 203, 68, 185]</td>\n",
       "    </tr>\n",
       "    <tr>\n",
       "      <th>2</th>\n",
       "      <td>[291, 300, 111, 274, 19, 311, 281, 283, 285]</td>\n",
       "      <td>[285, 19, 283, 311, 300, 291, 111, 274, 281, 942]</td>\n",
       "      <td>[285, 19, 283, 311, 274, 111, 300, 291, 281, 942]</td>\n",
       "    </tr>\n",
       "    <tr>\n",
       "      <th>3</th>\n",
       "      <td>[355, 328, 264, 337, 346, 348]</td>\n",
       "      <td>[346, 337, 328, 348, 355, 264, 943, 942, 941, ...</td>\n",
       "      <td>[346, 337, 355, 328, 348, 264, 943, 942, 941, ...</td>\n",
       "    </tr>\n",
       "    <tr>\n",
       "      <th>4</th>\n",
       "      <td>[258, 260, 357, 294, 264, 329, 301, 303]</td>\n",
       "      <td>[357, 258, 303, 301, 329, 294, 260, 264, 887, ...</td>\n",
       "      <td>[357, 258, 303, 301, 294, 329, 264, 260, 888, ...</td>\n",
       "    </tr>\n",
       "    <tr>\n",
       "      <th>5</th>\n",
       "      <td>[1, 388, 391, 394, 153, 412, 416, 163, 167, 42...</td>\n",
       "      <td>[427, 194, 210, 435, 1, 381, 153, 89, 234, 163]</td>\n",
       "      <td>[89, 234, 210, 194, 431, 427, 1, 211, 443, 381]</td>\n",
       "    </tr>\n",
       "  </tbody>\n",
       "</table>\n",
       "</div>"
      ],
      "text/plain": [
       "                                                    actual  \\\n",
       "user_id                                                      \n",
       "1        [128, 130, 4, 137, 139, 14, 270, 17, 24, 157, ...   \n",
       "2             [291, 300, 111, 274, 19, 311, 281, 283, 285]   \n",
       "3                           [355, 328, 264, 337, 346, 348]   \n",
       "4                 [258, 260, 357, 294, 264, 329, 301, 303]   \n",
       "5        [1, 388, 391, 394, 153, 412, 416, 163, 167, 42...   \n",
       "\n",
       "                                           svd_predictions  \\\n",
       "user_id                                                      \n",
       "1          [185, 169, 198, 137, 205, 208, 60, 14, 206, 69]   \n",
       "2        [285, 19, 283, 311, 300, 291, 111, 274, 281, 942]   \n",
       "3        [346, 337, 328, 348, 355, 264, 943, 942, 941, ...   \n",
       "4        [357, 258, 303, 301, 329, 294, 260, 264, 887, ...   \n",
       "5          [427, 194, 210, 435, 1, 381, 153, 89, 234, 163]   \n",
       "\n",
       "                                           pmf_predictions  \n",
       "user_id                                                     \n",
       "1            [169, 60, 198, 4, 14, 196, 207, 203, 68, 185]  \n",
       "2        [285, 19, 283, 311, 274, 111, 300, 291, 281, 942]  \n",
       "3        [346, 337, 355, 328, 348, 264, 943, 942, 941, ...  \n",
       "4        [357, 258, 303, 301, 294, 329, 264, 260, 888, ...  \n",
       "5          [89, 234, 210, 194, 431, 427, 1, 211, 443, 381]  "
      ]
     },
     "execution_count": 42,
     "metadata": {},
     "output_type": "execute_result"
    }
   ],
   "source": [
    "# defining the predictions for all users\n",
    "cf_model_pmf = test_pmf.pivot_table(index='user_id', columns='item_id', values='cf_predictions').fillna(0)\n",
    "\n",
    "# make recommendations for all members in the test data\n",
    "cf_recs = [] = []\n",
    "for user in pred_test.index:\n",
    "    cf_predictions = get_users_predictions(user, 10, cf_model_pmf)\n",
    "    cf_recs.append(cf_predictions)\n",
    "        \n",
    "pred_test['pmf_predictions'] = cf_recs\n",
    "pred_test.head()"
   ]
  },
  {
   "cell_type": "markdown",
   "id": "0a22e12c",
   "metadata": {},
   "source": [
    "## NMF "
   ]
  },
  {
   "cell_type": "code",
   "execution_count": 32,
   "id": "13bc18b8",
   "metadata": {},
   "outputs": [
    {
     "data": {
      "text/plain": [
       "<surprise.prediction_algorithms.matrix_factorization.NMF at 0x7fc9ad3c8590>"
      ]
     },
     "execution_count": 32,
     "metadata": {},
     "output_type": "execute_result"
    }
   ],
   "source": [
    "nmf_model = NMF()\n",
    "nmf_model.fit(train_df)"
   ]
  },
  {
   "cell_type": "code",
   "execution_count": 33,
   "id": "ce5a767e",
   "metadata": {},
   "outputs": [
    {
     "data": {
      "text/html": [
       "<div>\n",
       "<style scoped>\n",
       "    .dataframe tbody tr th:only-of-type {\n",
       "        vertical-align: middle;\n",
       "    }\n",
       "\n",
       "    .dataframe tbody tr th {\n",
       "        vertical-align: top;\n",
       "    }\n",
       "\n",
       "    .dataframe thead th {\n",
       "        text-align: right;\n",
       "    }\n",
       "</style>\n",
       "<table border=\"1\" class=\"dataframe\">\n",
       "  <thead>\n",
       "    <tr style=\"text-align: right;\">\n",
       "      <th></th>\n",
       "      <th>user_id</th>\n",
       "      <th>item_id</th>\n",
       "      <th>rating</th>\n",
       "      <th>cf_predictions</th>\n",
       "    </tr>\n",
       "  </thead>\n",
       "  <tbody>\n",
       "    <tr>\n",
       "      <th>0</th>\n",
       "      <td>708</td>\n",
       "      <td>25</td>\n",
       "      <td>3.0</td>\n",
       "      <td>3.461558</td>\n",
       "    </tr>\n",
       "    <tr>\n",
       "      <th>1</th>\n",
       "      <td>655</td>\n",
       "      <td>223</td>\n",
       "      <td>3.0</td>\n",
       "      <td>3.527311</td>\n",
       "    </tr>\n",
       "    <tr>\n",
       "      <th>2</th>\n",
       "      <td>874</td>\n",
       "      <td>14</td>\n",
       "      <td>4.0</td>\n",
       "      <td>4.120660</td>\n",
       "    </tr>\n",
       "    <tr>\n",
       "      <th>3</th>\n",
       "      <td>518</td>\n",
       "      <td>508</td>\n",
       "      <td>3.0</td>\n",
       "      <td>3.852617</td>\n",
       "    </tr>\n",
       "    <tr>\n",
       "      <th>4</th>\n",
       "      <td>250</td>\n",
       "      <td>50</td>\n",
       "      <td>5.0</td>\n",
       "      <td>4.299614</td>\n",
       "    </tr>\n",
       "  </tbody>\n",
       "</table>\n",
       "</div>"
      ],
      "text/plain": [
       "   user_id  item_id  rating  cf_predictions\n",
       "0      708       25     3.0        3.461558\n",
       "1      655      223     3.0        3.527311\n",
       "2      874       14     4.0        4.120660\n",
       "3      518      508     3.0        3.852617\n",
       "4      250       50     5.0        4.299614"
      ]
     },
     "execution_count": 33,
     "metadata": {},
     "output_type": "execute_result"
    }
   ],
   "source": [
    "test_nmf = nmf_model.test(test_df)\n",
    "test_nmf = pd.DataFrame(test_nmf)\n",
    "test_nmf.drop(\"details\", inplace=True, axis=1)\n",
    "test_nmf.columns = ['user_id', 'item_id', 'rating', 'cf_predictions']\n",
    "test_nmf.head()"
   ]
  },
  {
   "cell_type": "code",
   "execution_count": 43,
   "id": "e17f7adb",
   "metadata": {},
   "outputs": [
    {
     "data": {
      "text/html": [
       "<div>\n",
       "<style scoped>\n",
       "    .dataframe tbody tr th:only-of-type {\n",
       "        vertical-align: middle;\n",
       "    }\n",
       "\n",
       "    .dataframe tbody tr th {\n",
       "        vertical-align: top;\n",
       "    }\n",
       "\n",
       "    .dataframe thead th {\n",
       "        text-align: right;\n",
       "    }\n",
       "</style>\n",
       "<table border=\"1\" class=\"dataframe\">\n",
       "  <thead>\n",
       "    <tr style=\"text-align: right;\">\n",
       "      <th></th>\n",
       "      <th>actual</th>\n",
       "      <th>svd_predictions</th>\n",
       "      <th>pmf_predictions</th>\n",
       "      <th>nmf_predictions</th>\n",
       "    </tr>\n",
       "    <tr>\n",
       "      <th>user_id</th>\n",
       "      <th></th>\n",
       "      <th></th>\n",
       "      <th></th>\n",
       "      <th></th>\n",
       "    </tr>\n",
       "  </thead>\n",
       "  <tbody>\n",
       "    <tr>\n",
       "      <th>1</th>\n",
       "      <td>[128, 130, 4, 137, 139, 14, 270, 17, 24, 157, ...</td>\n",
       "      <td>[185, 169, 198, 137, 205, 208, 60, 14, 206, 69]</td>\n",
       "      <td>[169, 60, 198, 4, 14, 196, 207, 203, 68, 185]</td>\n",
       "      <td>[60, 169, 14, 185, 207, 196, 208, 137, 198, 205]</td>\n",
       "    </tr>\n",
       "    <tr>\n",
       "      <th>2</th>\n",
       "      <td>[291, 300, 111, 274, 19, 311, 281, 283, 285]</td>\n",
       "      <td>[285, 19, 283, 311, 300, 291, 111, 274, 281, 942]</td>\n",
       "      <td>[285, 19, 283, 311, 274, 111, 300, 291, 281, 942]</td>\n",
       "      <td>[19, 285, 283, 311, 111, 300, 291, 281, 274, 942]</td>\n",
       "    </tr>\n",
       "    <tr>\n",
       "      <th>3</th>\n",
       "      <td>[355, 328, 264, 337, 346, 348]</td>\n",
       "      <td>[346, 337, 328, 348, 355, 264, 943, 942, 941, ...</td>\n",
       "      <td>[346, 337, 355, 328, 348, 264, 943, 942, 941, ...</td>\n",
       "      <td>[328, 346, 337, 348, 355, 264, 943, 942, 941, ...</td>\n",
       "    </tr>\n",
       "    <tr>\n",
       "      <th>4</th>\n",
       "      <td>[258, 260, 357, 294, 264, 329, 301, 303]</td>\n",
       "      <td>[357, 258, 303, 301, 329, 294, 260, 264, 887, ...</td>\n",
       "      <td>[357, 258, 303, 301, 294, 329, 264, 260, 888, ...</td>\n",
       "      <td>[357, 303, 258, 329, 294, 301, 264, 260, 888, ...</td>\n",
       "    </tr>\n",
       "    <tr>\n",
       "      <th>5</th>\n",
       "      <td>[1, 388, 391, 394, 153, 412, 416, 163, 167, 42...</td>\n",
       "      <td>[427, 194, 210, 435, 1, 381, 153, 89, 234, 163]</td>\n",
       "      <td>[89, 234, 210, 194, 431, 427, 1, 211, 443, 381]</td>\n",
       "      <td>[427, 89, 381, 443, 435, 153, 1, 211, 234, 210]</td>\n",
       "    </tr>\n",
       "  </tbody>\n",
       "</table>\n",
       "</div>"
      ],
      "text/plain": [
       "                                                    actual  \\\n",
       "user_id                                                      \n",
       "1        [128, 130, 4, 137, 139, 14, 270, 17, 24, 157, ...   \n",
       "2             [291, 300, 111, 274, 19, 311, 281, 283, 285]   \n",
       "3                           [355, 328, 264, 337, 346, 348]   \n",
       "4                 [258, 260, 357, 294, 264, 329, 301, 303]   \n",
       "5        [1, 388, 391, 394, 153, 412, 416, 163, 167, 42...   \n",
       "\n",
       "                                           svd_predictions  \\\n",
       "user_id                                                      \n",
       "1          [185, 169, 198, 137, 205, 208, 60, 14, 206, 69]   \n",
       "2        [285, 19, 283, 311, 300, 291, 111, 274, 281, 942]   \n",
       "3        [346, 337, 328, 348, 355, 264, 943, 942, 941, ...   \n",
       "4        [357, 258, 303, 301, 329, 294, 260, 264, 887, ...   \n",
       "5          [427, 194, 210, 435, 1, 381, 153, 89, 234, 163]   \n",
       "\n",
       "                                           pmf_predictions  \\\n",
       "user_id                                                      \n",
       "1            [169, 60, 198, 4, 14, 196, 207, 203, 68, 185]   \n",
       "2        [285, 19, 283, 311, 274, 111, 300, 291, 281, 942]   \n",
       "3        [346, 337, 355, 328, 348, 264, 943, 942, 941, ...   \n",
       "4        [357, 258, 303, 301, 294, 329, 264, 260, 888, ...   \n",
       "5          [89, 234, 210, 194, 431, 427, 1, 211, 443, 381]   \n",
       "\n",
       "                                           nmf_predictions  \n",
       "user_id                                                     \n",
       "1         [60, 169, 14, 185, 207, 196, 208, 137, 198, 205]  \n",
       "2        [19, 285, 283, 311, 111, 300, 291, 281, 274, 942]  \n",
       "3        [328, 346, 337, 348, 355, 264, 943, 942, 941, ...  \n",
       "4        [357, 303, 258, 329, 294, 301, 264, 260, 888, ...  \n",
       "5          [427, 89, 381, 443, 435, 153, 1, 211, 234, 210]  "
      ]
     },
     "execution_count": 43,
     "metadata": {},
     "output_type": "execute_result"
    }
   ],
   "source": [
    "# defining the predictions for all users\n",
    "cf_model_nmf = test_nmf.pivot_table(index='user_id', columns='item_id', values='cf_predictions').fillna(0)\n",
    "\n",
    "# make recommendations for all members in the test data\n",
    "cf_recs = [] = []\n",
    "for user in pred_test.index:\n",
    "    cf_predictions = get_users_predictions(user, 10, cf_model_nmf)\n",
    "    cf_recs.append(cf_predictions)\n",
    "        \n",
    "pred_test['nmf_predictions'] = cf_recs\n",
    "pred_test.head()"
   ]
  },
  {
   "cell_type": "markdown",
   "id": "a9ad0d6e",
   "metadata": {},
   "source": [
    "## Popularity Model"
   ]
  },
  {
   "cell_type": "code",
   "execution_count": 46,
   "id": "81fd79de",
   "metadata": {},
   "outputs": [
    {
     "data": {
      "text/html": [
       "<div>\n",
       "<style scoped>\n",
       "    .dataframe tbody tr th:only-of-type {\n",
       "        vertical-align: middle;\n",
       "    }\n",
       "\n",
       "    .dataframe tbody tr th {\n",
       "        vertical-align: top;\n",
       "    }\n",
       "\n",
       "    .dataframe thead th {\n",
       "        text-align: right;\n",
       "    }\n",
       "</style>\n",
       "<table border=\"1\" class=\"dataframe\">\n",
       "  <thead>\n",
       "    <tr style=\"text-align: right;\">\n",
       "      <th></th>\n",
       "      <th>actual</th>\n",
       "      <th>svd_predictions</th>\n",
       "      <th>pmf_predictions</th>\n",
       "      <th>nmf_predictions</th>\n",
       "      <th>pop_predictions</th>\n",
       "    </tr>\n",
       "    <tr>\n",
       "      <th>user_id</th>\n",
       "      <th></th>\n",
       "      <th></th>\n",
       "      <th></th>\n",
       "      <th></th>\n",
       "      <th></th>\n",
       "    </tr>\n",
       "  </thead>\n",
       "  <tbody>\n",
       "    <tr>\n",
       "      <th>1</th>\n",
       "      <td>[128, 130, 4, 137, 139, 14, 270, 17, 24, 157, ...</td>\n",
       "      <td>[185, 169, 198, 137, 205, 208, 60, 14, 206, 69]</td>\n",
       "      <td>[169, 60, 198, 4, 14, 196, 207, 203, 68, 185]</td>\n",
       "      <td>[60, 169, 14, 185, 207, 196, 208, 137, 198, 205]</td>\n",
       "      <td>[50, 258, 100, 181, 294, 286, 288, 1, 300, 121]</td>\n",
       "    </tr>\n",
       "    <tr>\n",
       "      <th>2</th>\n",
       "      <td>[291, 300, 111, 274, 19, 311, 281, 283, 285]</td>\n",
       "      <td>[285, 19, 283, 311, 300, 291, 111, 274, 281, 942]</td>\n",
       "      <td>[285, 19, 283, 311, 274, 111, 300, 291, 281, 942]</td>\n",
       "      <td>[19, 285, 283, 311, 111, 300, 291, 281, 274, 942]</td>\n",
       "      <td>[50, 258, 100, 181, 294, 286, 288, 1, 300, 121]</td>\n",
       "    </tr>\n",
       "    <tr>\n",
       "      <th>3</th>\n",
       "      <td>[355, 328, 264, 337, 346, 348]</td>\n",
       "      <td>[346, 337, 328, 348, 355, 264, 943, 942, 941, ...</td>\n",
       "      <td>[346, 337, 355, 328, 348, 264, 943, 942, 941, ...</td>\n",
       "      <td>[328, 346, 337, 348, 355, 264, 943, 942, 941, ...</td>\n",
       "      <td>[50, 258, 100, 181, 294, 286, 288, 1, 300, 121]</td>\n",
       "    </tr>\n",
       "    <tr>\n",
       "      <th>4</th>\n",
       "      <td>[258, 260, 357, 294, 264, 329, 301, 303]</td>\n",
       "      <td>[357, 258, 303, 301, 329, 294, 260, 264, 887, ...</td>\n",
       "      <td>[357, 258, 303, 301, 294, 329, 264, 260, 888, ...</td>\n",
       "      <td>[357, 303, 258, 329, 294, 301, 264, 260, 888, ...</td>\n",
       "      <td>[50, 258, 100, 181, 294, 286, 288, 1, 300, 121]</td>\n",
       "    </tr>\n",
       "    <tr>\n",
       "      <th>5</th>\n",
       "      <td>[1, 388, 391, 394, 153, 412, 416, 163, 167, 42...</td>\n",
       "      <td>[427, 194, 210, 435, 1, 381, 153, 89, 234, 163]</td>\n",
       "      <td>[89, 234, 210, 194, 431, 427, 1, 211, 443, 381]</td>\n",
       "      <td>[427, 89, 381, 443, 435, 153, 1, 211, 234, 210]</td>\n",
       "      <td>[50, 258, 100, 181, 294, 286, 288, 1, 300, 121]</td>\n",
       "    </tr>\n",
       "  </tbody>\n",
       "</table>\n",
       "</div>"
      ],
      "text/plain": [
       "                                                    actual  \\\n",
       "user_id                                                      \n",
       "1        [128, 130, 4, 137, 139, 14, 270, 17, 24, 157, ...   \n",
       "2             [291, 300, 111, 274, 19, 311, 281, 283, 285]   \n",
       "3                           [355, 328, 264, 337, 346, 348]   \n",
       "4                 [258, 260, 357, 294, 264, 329, 301, 303]   \n",
       "5        [1, 388, 391, 394, 153, 412, 416, 163, 167, 42...   \n",
       "\n",
       "                                           svd_predictions  \\\n",
       "user_id                                                      \n",
       "1          [185, 169, 198, 137, 205, 208, 60, 14, 206, 69]   \n",
       "2        [285, 19, 283, 311, 300, 291, 111, 274, 281, 942]   \n",
       "3        [346, 337, 328, 348, 355, 264, 943, 942, 941, ...   \n",
       "4        [357, 258, 303, 301, 329, 294, 260, 264, 887, ...   \n",
       "5          [427, 194, 210, 435, 1, 381, 153, 89, 234, 163]   \n",
       "\n",
       "                                           pmf_predictions  \\\n",
       "user_id                                                      \n",
       "1            [169, 60, 198, 4, 14, 196, 207, 203, 68, 185]   \n",
       "2        [285, 19, 283, 311, 274, 111, 300, 291, 281, 942]   \n",
       "3        [346, 337, 355, 328, 348, 264, 943, 942, 941, ...   \n",
       "4        [357, 258, 303, 301, 294, 329, 264, 260, 888, ...   \n",
       "5          [89, 234, 210, 194, 431, 427, 1, 211, 443, 381]   \n",
       "\n",
       "                                           nmf_predictions  \\\n",
       "user_id                                                      \n",
       "1         [60, 169, 14, 185, 207, 196, 208, 137, 198, 205]   \n",
       "2        [19, 285, 283, 311, 111, 300, 291, 281, 274, 942]   \n",
       "3        [328, 346, 337, 348, 355, 264, 943, 942, 941, ...   \n",
       "4        [357, 303, 258, 329, 294, 301, 264, 260, 888, ...   \n",
       "5          [427, 89, 381, 443, 435, 153, 1, 211, 234, 210]   \n",
       "\n",
       "                                         pop_predictions  \n",
       "user_id                                                   \n",
       "1        [50, 258, 100, 181, 294, 286, 288, 1, 300, 121]  \n",
       "2        [50, 258, 100, 181, 294, 286, 288, 1, 300, 121]  \n",
       "3        [50, 258, 100, 181, 294, 286, 288, 1, 300, 121]  \n",
       "4        [50, 258, 100, 181, 294, 286, 288, 1, 300, 121]  \n",
       "5        [50, 258, 100, 181, 294, 286, 288, 1, 300, 121]  "
      ]
     },
     "execution_count": 46,
     "metadata": {},
     "output_type": "execute_result"
    }
   ],
   "source": [
    "#make recommendations for all members in the test data\n",
    "popularity_recs = df.item_id.value_counts().head(10).index.tolist()\n",
    "\n",
    "pop_recs = []\n",
    "for user in pred_test.index:\n",
    "    pop_predictions = popularity_recs\n",
    "    pop_recs.append(pop_predictions)\n",
    "        \n",
    "pred_test['pop_predictions'] = pop_recs\n",
    "pred_test.head()"
   ]
  },
  {
   "cell_type": "code",
   "execution_count": 56,
   "id": "6b87c7cb",
   "metadata": {},
   "outputs": [
    {
     "data": {
      "text/plain": [
       "user_id\n",
       "1      [128, 130, 4, 137, 139, 14, 270, 17, 24, 157, ...\n",
       "2           [291, 300, 111, 274, 19, 311, 281, 283, 285]\n",
       "3                         [355, 328, 264, 337, 346, 348]\n",
       "4               [258, 260, 357, 294, 264, 329, 301, 303]\n",
       "5      [1, 388, 391, 394, 153, 412, 416, 163, 167, 42...\n",
       "                             ...                        \n",
       "939    [931, 1190, 742, 680, 106, 689, 818, 274, 597,...\n",
       "940    [164, 69, 70, 47, 1137, 657, 116, 436, 316, 31...\n",
       "941                                                [181]\n",
       "942    [705, 99, 487, 615, 71, 265, 234, 500, 216, 31...\n",
       "943    [9, 12, 399, 274, 403, 1044, 22, 27, 284, 42, ...\n",
       "Name: actual, Length: 938, dtype: object"
      ]
     },
     "execution_count": 56,
     "metadata": {},
     "output_type": "execute_result"
    }
   ],
   "source": [
    "pred_test['actual']"
   ]
  },
  {
   "cell_type": "code",
   "execution_count": 74,
   "id": "30484fe7",
   "metadata": {},
   "outputs": [
    {
     "name": "stdout",
     "output_type": "stream",
     "text": [
      "RMSE SVD:  0.9430241172722802\n",
      "RMSE PMF:  0.9430241172722802\n",
      "RMSE NMF:  0.9647452437020301\n"
     ]
    }
   ],
   "source": [
    "print(\"RMSE SVD: \", rm.rmse(test.rating, test.cf_predictions))\n",
    "print(\"RMSE PMF: \", rm.rmse(test_pmf.rating, test_pmf.cf_predictions))\n",
    "print(\"RMSE NMF: \", rm.rmse(test_nmf.rating, test_nmf.cf_predictions))"
   ]
  },
  {
   "cell_type": "markdown",
   "id": "751f0d92",
   "metadata": {},
   "source": [
    "## MarK comparison"
   ]
  },
  {
   "cell_type": "code",
   "execution_count": null,
   "id": "df2041ac",
   "metadata": {},
   "outputs": [],
   "source": [
    "actual = test.actual.values.tolist()\n",
    "cf_predictions = test.cf_predictions.values.tolist()\n",
    "pop_predictions = test.pop_predictions.values.tolist()\n",
    "random_predictions = test.random_predictions.values.tolist()"
   ]
  },
  {
   "cell_type": "code",
   "execution_count": 89,
   "id": "68acaac4",
   "metadata": {},
   "outputs": [],
   "source": [
    "def mark_generation(K, actual_values, predictions_values):\n",
    "    pop_mark = []\n",
    "    for k in np.arange(1, K+1):\n",
    "        pop_mark.extend([rm.mark(actual_values, predictions_values, k=k)])\n",
    "    return pop_mark"
   ]
  },
  {
   "cell_type": "code",
   "execution_count": 99,
   "id": "d84123ed",
   "metadata": {},
   "outputs": [],
   "source": [
    "actual = actual = pred_test.actual.values.tolist()\n",
    "svd_predictions = pred_test.svd_predictions.values.tolist()\n",
    "pmf_predictions = pred_test.pmf_predictions.values.tolist()\n",
    "nmf_predictions = pred_test.nmf_predictions.values.tolist()\n",
    "pop_predictions = pred_test.pop_predictions.values.tolist()\n",
    "\n",
    "\n",
    "mark_scores = []\n",
    "for pred_model in [svd_predictions, pmf_predictions, nmf_predictions, pop_predictions]:\n",
    "    mark_scores.append(mark_generation(10, actual, pred_model))"
   ]
  },
  {
   "cell_type": "code",
   "execution_count": 101,
   "id": "e3b3ebcf",
   "metadata": {},
   "outputs": [
    {
     "data": {
      "image/png": "[encoded data removed]",
      "text/plain": [
       "<Figure size 1080x504 with 1 Axes>"
      ]
     },
     "metadata": {
      "needs_background": "light"
     },
     "output_type": "display_data"
    }
   ],
   "source": [
    "index = range(1,10+1)\n",
    "names = ['SVD Recommender', 'PMF Recommender', 'NMF Recommender', 'Pop Recommender']\n",
    "\n",
    "fig = plt.figure(figsize=(15, 7))\n",
    "rm.mark_plot(mark_scores, model_names=names, k_range=index)"
   ]
  },
  {
   "cell_type": "code",
   "execution_count": null,
   "id": "aa8020fc",
   "metadata": {},
   "outputs": [],
   "source": []
  }
 ],
 "metadata": {
  "kernelspec": {
   "display_name": "Python 3 (ipykernel)",
   "language": "python",
   "name": "python3"
  },
  "language_info": {
   "codemirror_mode": {
    "name": "ipython",
    "version": 3
   },
   "file_extension": ".py",
   "mimetype": "text/x-python",
   "name": "python",
   "nbconvert_exporter": "python",
   "pygments_lexer": "ipython3",
   "version": "3.7.11"
  }
 },
 "nbformat": 4,
 "nbformat_minor": 5
}
